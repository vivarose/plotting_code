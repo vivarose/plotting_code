{
 "cells": [
  {
   "cell_type": "code",
   "execution_count": null,
   "metadata": {},
   "outputs": [],
   "source": [
    "import pandas as pd \n",
    "import os \n",
    "import matplotlib.pyplot as plt \n",
    "import numpy as np \n",
    "import seaborn as sns\n",
    "from IPython.display import display\n",
    "import sys\n",
    "from statistics import mean\n",
    "import datetime\n",
    "from datetime import timedelta\n",
    "import time\n",
    "sns.set_context('poster') # makes text larger\n",
    "\n",
    "path = 'trends.csv' # net worth over time, exported from mint.com"
   ]
  },
  {
   "cell_type": "code",
   "execution_count": null,
   "metadata": {
    "scrolled": true
   },
   "outputs": [],
   "source": [
    "dfraw = pd.read_csv(path, \n",
    "                 converters={'Assets': lambda s: float(s.replace('$', '').replace(',','')),\n",
    "                            'Debts': lambda s: float(s.replace('$', '').replace(',','')),\n",
    "                            'Net': lambda s: float(s.replace('$', '').replace(',','')),\n",
    "                            'Dates': lambda s: pd.to_datetime(s) + timedelta(days=28)}) # really should be last day of month\n",
    "df=dfraw.copy() # a copy for editing\n",
    "if df.at[df.index[-1],'Dates'] > datetime.datetime.now():\n",
    "       df.at[df.index[-1],'Dates'] = pd.to_datetime(datetime.datetime.now())\n",
    "\n",
    "display(df.head())\n",
    "display(df.tail())"
   ]
  },
  {
   "cell_type": "code",
   "execution_count": null,
   "metadata": {},
   "outputs": [],
   "source": [
    "plt.plot(df['Dates'], df['Net'])\n",
    "plt.ylabel('Net worth/$')\n",
    "plt.title(\"Net worth over time\")\n",
    "ax = plt.gca()\n",
    "plt.xticks(rotation=-40, ha=\"left\");\n",
    "\n",
    "x = df['Dates'].values\n",
    "y2 = df['Net'].values\n",
    "y1 = 0\n",
    "ax.fill_between(x, y1, y2, where=y2>=y1, facecolor='lightblue', interpolate=True);"
   ]
  },
  {
   "cell_type": "code",
   "execution_count": null,
   "metadata": {},
   "outputs": [],
   "source": [
    "plt.plot(df['Dates'], df['Net'])\n",
    "plt.ylabel('Net worth/$')\n",
    "\n",
    "ax = plt.gca()\n",
    "ax.set_yscale('log')\n",
    "plt.title(\"Net worth over time: log plot\")\n",
    "\n",
    "plt.xticks(rotation=-40, ha=\"left\");"
   ]
  },
  {
   "cell_type": "code",
   "execution_count": null,
   "metadata": {},
   "outputs": [],
   "source": [
    "plt.plot(df.set_index('Dates').diff()['Net'], 'o', alpha=.5)\n",
    "ax = plt.gca()\n",
    "plt.ylabel(\"Dollars gained or lost\");\n",
    "plt.xticks(rotation=-40, ha=\"left\");\n",
    "#leg2 = ax2.legend()\n",
    "plt.title('Difference per month');"
   ]
  },
  {
   "cell_type": "code",
   "execution_count": null,
   "metadata": {},
   "outputs": [],
   "source": [
    "plt.plot(df['Dates'], -df['Debts'], 'k', label=\"All debts\")\n",
    "plt.ylabel('Debt/$')\n",
    "plt.title(\"Debts over time\")\n",
    "plt.xticks(rotation=-40, ha=\"left\");"
   ]
  },
  {
   "cell_type": "code",
   "execution_count": null,
   "metadata": {},
   "outputs": [],
   "source": []
  }
 ],
 "metadata": {
  "kernelspec": {
   "display_name": "Python 3",
   "language": "python",
   "name": "python3"
  },
  "language_info": {
   "codemirror_mode": {
    "name": "ipython",
    "version": 3
   },
   "file_extension": ".py",
   "mimetype": "text/x-python",
   "name": "python",
   "nbconvert_exporter": "python",
   "pygments_lexer": "ipython3",
   "version": "3.6.5"
  }
 },
 "nbformat": 4,
 "nbformat_minor": 2
}
