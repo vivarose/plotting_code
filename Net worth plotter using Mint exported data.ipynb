{
 "cells": [
  {
   "cell_type": "code",
   "execution_count": null,
   "metadata": {},
   "outputs": [],
   "source": [
    "import pandas as pd \n",
    "import os \n",
    "import matplotlib.pyplot as plt \n",
    "import numpy as np \n",
    "import seaborn as sns\n",
    "from IPython.display import display\n",
    "import sys\n",
    "from statistics import mean\n",
    "import datetime\n",
    "from datetime import timedelta\n",
    "import time\n",
    "sns.set_context('poster') # makes text larger\n",
    "\n",
    "path = 'trends.csv' # net worth over time, exported from mint.com"
   ]
  },
  {
   "cell_type": "code",
   "execution_count": null,
   "metadata": {
    "scrolled": true
   },
   "outputs": [],
   "source": [
    "dfraw = pd.read_csv(path, \n",
    "                 converters={'Assets': lambda s: float(s.replace('$', '').replace(',','')),\n",
    "                            'Debts': lambda s: float(s.replace('$', '').replace(',','').replace('(','-').replace(')','')),\n",
    "                            'NET': lambda s: float(s.replace('$', '').replace(',','')),\n",
    "                            'DATES': lambda s: pd.to_datetime(s) + timedelta(days=27)}) # really should be last day of month\n",
    "\n",
    "# in 2022, Mint changed its trends.csv saved file. I'm just changing everything back to the way it's always been.\n",
    "dfraw.Debts = -dfraw.Debts # Debts are negative.\n",
    "dfraw = dfraw.rename(columns={'DATES':'Dates', 'NET':'Net'}) # We don't need all caps.\n",
    "\n",
    "df=dfraw.copy() # a copy for editing\n",
    "\n",
    "# Mint exports the current data for this month.\n",
    "if df.at[df.index[-1],'Dates'] > datetime.datetime.now():\n",
    "       df.at[df.index[-1],'Dates'] = pd.to_datetime(datetime.datetime.now())\n",
    "        \n",
    "## Deal with corrupted data from Mint: duplicate rows\n",
    "duplicate = df[df[['Dates']].duplicated()] # dataframe of duplicate rows\n",
    "# remove the row BEFORE each duplicate row. That's the one we don't want.\n",
    "df.drop(duplicate.index-1,inplace=True)\n",
    "df.reset_index(inplace=True, drop=True)\n",
    "\n",
    "display(df.head())\n",
    "display(df.tail())"
   ]
  },
  {
   "cell_type": "code",
   "execution_count": null,
   "metadata": {},
   "outputs": [],
   "source": [
    "plt.plot(df['Dates'], df['Net'])\n",
    "plt.ylabel('Net worth/$')\n",
    "plt.title(\"Net worth over time\")\n",
    "ax = plt.gca()\n",
    "plt.xticks(rotation=-40, ha=\"left\");\n",
    "\n",
    "x = df['Dates'].values\n",
    "y2 = df['Net'].values\n",
    "y1 = 0\n",
    "ax.fill_between(x, y1, y2, where=y2>=y1, facecolor='lightblue', interpolate=True);"
   ]
  },
  {
   "cell_type": "code",
   "execution_count": null,
   "metadata": {},
   "outputs": [],
   "source": [
    "plt.plot(df['Dates'], df['Net'])\n",
    "plt.ylabel('Net worth/$')\n",
    "\n",
    "ax = plt.gca()\n",
    "ax.set_yscale('log')\n",
    "plt.title(\"Net worth over time: log plot\")\n",
    "\n",
    "plt.xticks(rotation=-40, ha=\"left\");"
   ]
  },
  {
   "cell_type": "code",
   "execution_count": null,
   "metadata": {},
   "outputs": [],
   "source": [
    "plt.plot(df.set_index('Dates').diff()['Net'], 'o', alpha=.5)\n",
    "ax = plt.gca()\n",
    "plt.ylabel(\"Dollars gained or lost\");\n",
    "plt.xticks(rotation=-40, ha=\"left\");\n",
    "#leg2 = ax2.legend()\n",
    "plt.title('Difference per month');"
   ]
  },
  {
   "cell_type": "code",
   "execution_count": null,
   "metadata": {},
   "outputs": [],
   "source": [
    "plt.plot(df['Dates'], -df['Debts'], 'k', label=\"All debts\")\n",
    "plt.ylabel('Debt/$')\n",
    "plt.title(\"Debts over time\")\n",
    "plt.xticks(rotation=-40, ha=\"left\");"
   ]
  },
  {
   "cell_type": "code",
   "execution_count": null,
   "metadata": {},
   "outputs": [],
   "source": [
    "#!pip install yfinance --upgrade --no-cache-dir"
   ]
  },
  {
   "cell_type": "code",
   "execution_count": null,
   "metadata": {},
   "outputs": [],
   "source": [
    "#import sys\n",
    "#sys.path.append(r'C:\\users\\vhorowit\\p3\\lib');\n",
    "#sys.path.append(r'C:\\users\\vhorowit\\p3\\lib\\site-packages')\n",
    "#sys.path.append(r'C:\\users\\vhorowit\\anaconda3\\lib\\site-packages')\n",
    "#!pip show yahoo-finance"
   ]
  },
  {
   "cell_type": "code",
   "execution_count": null,
   "metadata": {},
   "outputs": [],
   "source": [
    "import yfinance as yf\n",
    "\n",
    "earliestdate = '2012-01-01'\n",
    "\n",
    "GSPC = yf.Ticker(\"^GSPC\")\n",
    "DJIpd = GSPC.history(start=earliestdate, end =datetime.date.today(), interval = \"1mo\")\n",
    "\n",
    "display(DJIpd.tail())\n",
    "\n",
    "plt.figure()\n",
    "plt.plot(df['Dates'], df['Net'], label='Net worth')\n",
    "plt.plot(DJIpd.index, DJIpd['Close'], label='Dow Jones')\n",
    "ax = plt.gca()\n",
    "plt.ylabel('Net worth/$ and DJI')\n",
    "\n",
    "ax.set_yscale('log')\n",
    "plt.title(\"Net worth over time vs DJI\")\n",
    "leg = ax.legend();\n",
    "plt.xticks(rotation=-90, ha=\"left\");\n",
    "#plt.ylim(ymin=0)\n",
    "\n",
    "#plt.xlim(xmin=pd.to_datetime(earliestdate))\n",
    "#plt.axhline(y=0, color='grey', linestyle='-', alpha = .5);\n",
    "\n",
    "plt.show()"
   ]
  },
  {
   "cell_type": "code",
   "execution_count": null,
   "metadata": {},
   "outputs": [],
   "source": [
    "plt.figure(figsize=(15,8))\n",
    "plt.plot(df.set_index('Dates').diff()['Net']/100, '.', alpha=.4, color='blue', label=\"Net worth changes\")\n",
    "ax = plt.gca()\n",
    "#ym,yma=plt.ylim()\n",
    "#ax.fill_between(df['Dates'], ym, 0, where=0>=ym, facecolor='lightblue', interpolate=True);\n",
    "plt.ylabel(\"Dollars gained or lost / 100\");\n",
    "plt.xticks(rotation=-40, ha=\"left\");\n",
    "#leg2 = ax2.legend()\n",
    "plt.title('Difference per month');\n",
    "plt.axhline(y=0, color='grey', linestyle='-')\n",
    "\n",
    "\n",
    "if True:\n",
    "    ax.minorticks_on()\n",
    "    #ax.xaxis.set_minor_locator(MultipleLocator(1))\n",
    "    #ax.tick_params(axis='x', which='minor', direction='out')\n",
    "\n",
    "# rolling average over a few months\n",
    "months = 5\n",
    "plt.plot(pd.DataFrame.rolling(df.set_index('Dates').diff()['Net']/100, months, center=False).sum()/months,  \n",
    "         color='blue', label=\"Net worth changes rolling avg, \" + str(months) + ' months' )\n",
    "\n",
    "xmin, xmax = plt.xlim()\n",
    "#plt.figure()\n",
    "plt.plot(DJIpd.diff()['Close'], '.', alpha=.4, color='orange', label=\"DJI changes\")\n",
    "plt.plot(pd.DataFrame.rolling(DJIpd.diff()['Close'], months, center=False).sum()/months,  \n",
    "         color='orange', alpha = .8,  label=\"DJI changes rolling avg, \" + str(months) + ' months')\n",
    "plt.xlim(xmin = pd.to_datetime(\"2012-01-01\"), xmax = xmax)\n",
    "plt.title('Difference per month');\n",
    "plt.xticks(rotation=-40, ha=\"left\");\n",
    "plt.axhline(y=0, color='grey', linestyle='-')\n",
    "plt.legend();\n"
   ]
  },
  {
   "cell_type": "code",
   "execution_count": null,
   "metadata": {},
   "outputs": [],
   "source": []
  }
 ],
 "metadata": {
  "kernelspec": {
   "display_name": "Python 3",
   "language": "python",
   "name": "python3"
  },
  "language_info": {
   "codemirror_mode": {
    "name": "ipython",
    "version": 3
   },
   "file_extension": ".py",
   "mimetype": "text/x-python",
   "name": "python",
   "nbconvert_exporter": "python",
   "pygments_lexer": "ipython3",
   "version": "3.8.8"
  }
 },
 "nbformat": 4,
 "nbformat_minor": 2
}
